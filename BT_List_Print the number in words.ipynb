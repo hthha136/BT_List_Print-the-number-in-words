{
 "cells": [
  {
   "cell_type": "markdown",
   "id": "28971b34",
   "metadata": {},
   "source": [
    "Nhập vào một dãy số. In dãy số ra dưới dạng chữ. Ví dụ: Nhập 4390 thì in ra “bốn ba chín không”"
   ]
  },
  {
   "cell_type": "code",
   "execution_count": 2,
   "id": "9a01472e",
   "metadata": {},
   "outputs": [
    {
     "name": "stdout",
     "output_type": "stream",
     "text": [
      "nhập vào dãy số: 5618\n",
      "năm sáu một tám "
     ]
    }
   ],
   "source": [
    "numbers = input('nhập vào dãy số: ')\n",
    "text = ('không','một', 'hai', 'ba', 'bốn', 'năm', 'sáu', 'bảy', 'tám', 'chín')\n",
    "for i in numbers:\n",
    "    n = int(i)\n",
    "    print(text[n], end=' ')"
   ]
  }
 ],
 "metadata": {
  "kernelspec": {
   "display_name": "Python 3 (ipykernel)",
   "language": "python",
   "name": "python3"
  },
  "language_info": {
   "codemirror_mode": {
    "name": "ipython",
    "version": 3
   },
   "file_extension": ".py",
   "mimetype": "text/x-python",
   "name": "python",
   "nbconvert_exporter": "python",
   "pygments_lexer": "ipython3",
   "version": "3.10.4"
  }
 },
 "nbformat": 4,
 "nbformat_minor": 5
}
